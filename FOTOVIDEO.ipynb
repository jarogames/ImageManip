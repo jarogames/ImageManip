{
 "cells": [
  {
   "cell_type": "markdown",
   "metadata": {},
   "source": [
    "# How I organize foto and video"
   ]
  },
  {
   "cell_type": "markdown",
   "metadata": {},
   "source": [
    "umount /dev/mmc0p0\n",
    "\n",
    "fsck -v /dev/mmc0p0"
   ]
  },
  {
   "cell_type": "markdown",
   "metadata": {},
   "source": [
    "## Foto"
   ]
  },
  {
   "cell_type": "markdown",
   "metadata": {},
   "source": [
    "```bash\n",
    "rsync -avi --include='*.JPG' --exclude=\"*.MOV\" /media/ojr/22A1-98A3/DCIM/ ./\n",
    "du -hs\n",
    "find . -iname \"*.JPG\" -exec jpegoptim -p -m50 {} \\;\n",
    "du -hs\n",
    "find . -iname \"*.JPG\" -exec rename -n \"s/JPG/jpg/\" {}  \\;\n",
    "```"
   ]
  },
  {
   "cell_type": "markdown",
   "metadata": {},
   "source": [
    "## Video"
   ]
  },
  {
   "cell_type": "markdown",
   "metadata": {},
   "source": [
    "```bash\n",
    "rsync -avi --include='*.MOV' --exclude=\"*.JPG\"   /media/ojr/22A1-98A3/DCIM/ ./\n",
    "ls -1 *.MOV | xargs -I III  ffmpeg -i III -vcodec copy -acodec mp3 III.mp4\n",
    "ls -1 *.MOV.mp4 | xargs  -I III HandBrakeCLI -i III -o III.mkv -f av_mkv -e x265 -q 20 --vfr -E mp3 -B 128\n",
    "####### ls -1 *.MOV.mp4 | xargs  -I III HandBrakeCLI -i III -o III.mkv --preset=\"ZFOTAKU\"\n",
    "rename \"s/.MOV.mp4.mkv/.mkv/\" *.mkv\n",
    "```"
   ]
  },
  {
   "cell_type": "markdown",
   "metadata": {},
   "source": [
    "check the status periodicaly\n",
    "```bash\n",
    "A=(`ls -1t *.MOV.mp4.mkv | xargs -I III basename III .mkv `); for ((j=0;j<100;j++));do for i in \"${A[@]}\"; do ls -trlh $i* 2>/dev/null;echo \"---\";done; sleep 5;clear;done\n",
    "```"
   ]
  }
 ],
 "metadata": {
  "anaconda-cloud": {},
  "kernelspec": {
   "display_name": "Python [Root]",
   "language": "python",
   "name": "Python [Root]"
  },
  "language_info": {
   "codemirror_mode": {
    "name": "ipython",
    "version": 3
   },
   "file_extension": ".py",
   "mimetype": "text/x-python",
   "name": "python",
   "nbconvert_exporter": "python",
   "pygments_lexer": "ipython3",
   "version": "3.5.2"
  }
 },
 "nbformat": 4,
 "nbformat_minor": 0
}
